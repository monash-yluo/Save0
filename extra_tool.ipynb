{
 "cells": [
  {
   "cell_type": "code",
   "execution_count": 3,
   "id": "366ec3f2",
   "metadata": {},
   "outputs": [
    {
     "name": "stdout",
     "output_type": "stream",
     "text": [
      "[(0, 0), (30, 2), (0, 28), (3, 4), (26, 31), (5, 29), (30, 7), (29, 25), (8, 3), (24, 3), (4, 24), (3, 9), (24, 27), (10, 30), (26, 9), (31, 21), (9, 7), (20, 0), (9, 24), (31, 12), (24, 22), (13, 2), (21, 8), (3, 19), (7, 12), (19, 28), (13, 26), (26, 14), (27, 18), (13, 7), (17, 4), (9, 19)]\n"
     ]
    }
   ],
   "source": [
    "import math\n",
    "\n",
    "\n",
    "def generate_ring_positions(grid_size=32, num_drones=32):\n",
    "    # 计算黄金角分布\n",
    "    angle = math.pi * (3 - math.sqrt(5))  # 黄金角度\n",
    "    radius_step = grid_size / (2 * math.sqrt(num_drones))\n",
    "\n",
    "    positions = []\n",
    "    for i in range(num_drones):\n",
    "        radius = radius_step * math.sqrt(i)\n",
    "        theta = i * angle\n",
    "\n",
    "        # 转换为笛卡尔坐标\n",
    "        x = (radius * math.cos(theta)) % grid_size\n",
    "        y = (radius * math.sin(theta)) % grid_size\n",
    "\n",
    "        # 环形边界处理\n",
    "        x = round(x)\n",
    "        y = round(y)\n",
    "\n",
    "        # 近似取整\n",
    "        positions.append((int(x), int(y)))\n",
    "\n",
    "    return positions\n",
    "\n",
    "\n",
    "# 使用示例\n",
    "drone_positions = generate_ring_positions()\n",
    "print(drone_positions)"
   ]
  }
 ],
 "metadata": {
  "kernelspec": {
   "display_name": "Python 3",
   "language": "python",
   "name": "python3"
  },
  "language_info": {
   "codemirror_mode": {
    "name": "ipython",
    "version": 3
   },
   "file_extension": ".py",
   "mimetype": "text/x-python",
   "name": "python",
   "nbconvert_exporter": "python",
   "pygments_lexer": "ipython3",
   "version": "3.10.11"
  }
 },
 "nbformat": 4,
 "nbformat_minor": 5
}
